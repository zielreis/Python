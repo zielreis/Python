{
 "cells": [
  {
   "cell_type": "markdown",
   "id": "92a3c4af",
   "metadata": {},
   "source": [
    "Q1\n",
    "Faça um programa que armazene o valor de 20 reais de salário por hora de um trabalhador, e o número de 40 horas trabalhadas na semana. Com essas informações, calcule e imprima:\n",
    "\n",
    "Salário semanal bruto\n",
    "Valor descontado por semana INSS (10% do bruto)\n",
    "Valor descontado por semana pelo sindicato (5% do bruto)\n",
    "Salário semanal líquido (Bruto - Descontos)"
   ]
  },
  {
   "cell_type": "code",
   "execution_count": 29,
   "id": "83c2db53",
   "metadata": {},
   "outputs": [
    {
     "name": "stdout",
     "output_type": "stream",
     "text": [
      "680.0\n"
     ]
    }
   ],
   "source": [
    "\n",
    "salario_hora = 20\n",
    "horas_semana = 40\n",
    "\n",
    "salario_bruto = salario_hora * horas_semana\n",
    "desconto_inss = 0.1 * salario_bruto\n",
    "desconto_sind  = 0.05 * salario_bruto\n",
    "salario_liquido = salario_bruto -desconto_inss - desconto_sind \n",
    "print(salario_liquido)"
   ]
  },
  {
   "cell_type": "markdown",
   "id": "5ddd3be6",
   "metadata": {},
   "source": [
    "\n",
    "Q2\n",
    "Altere o programa anterior para a partir dos valores de horas trabalhadas por semana e salário por hora, calcular em somente duas instruções:\n",
    "\n",
    "Salário semanal bruto\n",
    "Salário semanal líquido com todos os descontos. Para a segunda instrução, realize todos os cálculos aritméticos em uma expressão composta."
   ]
  },
  {
   "cell_type": "code",
   "execution_count": 30,
   "id": "0bd87375",
   "metadata": {},
   "outputs": [
    {
     "name": "stdout",
     "output_type": "stream",
     "text": [
      "800\n",
      "680.0\n"
     ]
    }
   ],
   "source": [
    "salario_hora = 20\n",
    "horas_semana = 40\n",
    "\n",
    "salario_bruto = salario_hora * horas_semana\n",
    "salario_liquido = salario_bruto-0.1 * salario_bruto - 0.05 * salario_bruto \n",
    "print(salario_bruto )\n",
    "print(salario_liquido )"
   ]
  },
  {
   "cell_type": "markdown",
   "id": "e7f8ee84",
   "metadata": {},
   "source": [
    "Q3\n",
    "Você está desenvolvendo um software de conversão de moeda e precisa calcular o valor equivalente em yuan chinês a partir de uma quantia em real. A taxa de câmbio é de 0.69 BRL (real) para 1 CNY (yuan). Escreva um programa que define em uma variável uma quantia em reais (BRL) e calcula o valor equivalente em yuan (CNY). Imprima o resultado."
   ]
  },
  {
   "cell_type": "code",
   "execution_count": 31,
   "id": "4dec3e7a",
   "metadata": {},
   "outputs": [
    {
     "name": "stdout",
     "output_type": "stream",
     "text": [
      "R$100.00 equivalem a ¥144.93 yuan chineses.\n"
     ]
    }
   ],
   "source": [
    "\n",
    "valor_em_reais = 100.0  \n",
    "taxa_cambio = 0.69\n",
    "\n",
    "valor_em_yuan = valor_em_reais / taxa_cambio\n",
    "\n",
    "print(f\"R${valor_em_reais:.2f} equivalem a ¥{valor_em_yuan:.2f} yuan chineses.\")"
   ]
  },
  {
   "cell_type": "markdown",
   "id": "0690621e",
   "metadata": {},
   "source": [
    "Q4\n",
    "Você é um treinador de corrida e deseja calcular a velocidade média que um atleta precisa manter para completar a Maratona Internacional de São Silvestre, que tem uma distância total de 42.195 km. A fórmula para calcular a velocidade média (\n",
    ") é dada por \n",
    " \n",
    " . Escreva um programa em Python para calcular a velocidade média necessária para completar a maratona em 3 horas.\n",
    "\n",
    "Calcule e imprima o resultado em metros/segundo, ou seja, converta a distância de quilômetros para metros (\n",
    " \n",
    ") e a velocidade de horas para segundos \n",
    " \n",
    "."
   ]
  },
  {
   "cell_type": "code",
   "execution_count": 33,
   "id": "b2550a15",
   "metadata": {},
   "outputs": [
    {
     "name": "stdout",
     "output_type": "stream",
     "text": [
      "A velocidade média necessária é de 3.91 metros por segundo.\n"
     ]
    }
   ],
   "source": [
    "# Distância da maratona em quilômetros\n",
    "distancia_km = 42.195\n",
    "\n",
    "# Tempo em horas\n",
    "tempo_horas = 3\n",
    "\n",
    "# Conversão de distância para metros\n",
    "distancia_metros = distancia_km * 1000\n",
    "\n",
    "# Conversão de tempo para segundos\n",
    "tempo_segundos = tempo_horas * 3600\n",
    "\n",
    "# Cálculo da velocidade média em metros por segundo\n",
    "velocidade_media = distancia_metros / tempo_segundos\n",
    "\n",
    "# Exibe o resultado\n",
    "print(f\"A velocidade média necessária é de {velocidade_media:.2f} metros por segundo.\")\n"
   ]
  }
 ],
 "metadata": {
  "kernelspec": {
   "display_name": ".venv",
   "language": "python",
   "name": "python3"
  },
  "language_info": {
   "codemirror_mode": {
    "name": "ipython",
    "version": 3
   },
   "file_extension": ".py",
   "mimetype": "text/x-python",
   "name": "python",
   "nbconvert_exporter": "python",
   "pygments_lexer": "ipython3",
   "version": "3.13.7"
  }
 },
 "nbformat": 4,
 "nbformat_minor": 5
}
